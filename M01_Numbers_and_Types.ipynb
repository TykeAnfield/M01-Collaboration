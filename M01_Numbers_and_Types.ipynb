{
 "cells": [
  {
   "cell_type": "markdown",
   "id": "af994a42",
   "metadata": {},
   "source": [
    "3.1 How many seconds are in an hour?\n",
    "    There are 3600 seconds in an hour"
   ]
  },
  {
   "cell_type": "code",
   "execution_count": 1,
   "id": "669eb6fe",
   "metadata": {},
   "outputs": [
    {
     "data": {
      "text/plain": [
       "3600"
      ]
     },
     "execution_count": 1,
     "metadata": {},
     "output_type": "execute_result"
    }
   ],
   "source": [
    "60*60"
   ]
  },
  {
   "cell_type": "markdown",
   "id": "da65ea39",
   "metadata": {},
   "source": [
    "3.3 How many seconds are in a day?\n",
    "    There are 86400 seconds in a day"
   ]
  },
  {
   "cell_type": "code",
   "execution_count": 2,
   "id": "2c732ba6",
   "metadata": {},
   "outputs": [
    {
     "data": {
      "text/plain": [
       "86400"
      ]
     },
     "execution_count": 2,
     "metadata": {},
     "output_type": "execute_result"
    }
   ],
   "source": [
    "seconds_per_hour = 3600\n",
    "\n",
    "seconds_per_hour * 24"
   ]
  },
  {
   "cell_type": "code",
   "execution_count": 3,
   "id": "581ab2bf",
   "metadata": {},
   "outputs": [],
   "source": [
    "seconds_per_day = seconds_per_hour * 24"
   ]
  },
  {
   "cell_type": "code",
   "execution_count": 4,
   "id": "5093b706",
   "metadata": {},
   "outputs": [
    {
     "data": {
      "text/plain": [
       "24.0"
      ]
     },
     "execution_count": 4,
     "metadata": {},
     "output_type": "execute_result"
    }
   ],
   "source": [
    "seconds_per_day / seconds_per_hour\n"
   ]
  },
  {
   "cell_type": "code",
   "execution_count": 5,
   "id": "e5667ca8",
   "metadata": {},
   "outputs": [
    {
     "data": {
      "text/plain": [
       "24"
      ]
     },
     "execution_count": 5,
     "metadata": {},
     "output_type": "execute_result"
    }
   ],
   "source": [
    "seconds_per_day // seconds_per_hour"
   ]
  },
  {
   "cell_type": "markdown",
   "id": "7ad06c90",
   "metadata": {},
   "source": [
    "3.6 Did this number agree with the floating-point value from the previous question, aside from the final .0?\n",
    "    Yes, The values did agree with each other, aside from the .0."
   ]
  },
  {
   "cell_type": "code",
   "execution_count": null,
   "id": "126de8b5",
   "metadata": {},
   "outputs": [],
   "source": []
  }
 ],
 "metadata": {
  "kernelspec": {
   "display_name": "Python 3 (ipykernel)",
   "language": "python",
   "name": "python3"
  },
  "language_info": {
   "codemirror_mode": {
    "name": "ipython",
    "version": 3
   },
   "file_extension": ".py",
   "mimetype": "text/x-python",
   "name": "python",
   "nbconvert_exporter": "python",
   "pygments_lexer": "ipython3",
   "version": "3.9.13"
  }
 },
 "nbformat": 4,
 "nbformat_minor": 5
}
